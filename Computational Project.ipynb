{
 "cells": [
  {
   "cell_type": "code",
   "execution_count": 124,
   "id": "4d08f048",
   "metadata": {},
   "outputs": [],
   "source": [
    "import numpy as np\n",
    "import scipy as sp\n",
    "import matplotlib.pyplot as plt\n",
    "import pandas as pd\n",
    "import astropy\n",
    "import extinction\n",
    "import sncosmo\n",
    "from astropy.table import Table"
   ]
  },
  {
   "cell_type": "code",
   "execution_count": 125,
   "id": "f0bf8c30",
   "metadata": {},
   "outputs": [],
   "source": [
    "'''load in file with wavelength separations'''\n",
    "df = pd.read_csv('./d_lambda.txt', comment='#', sep = '\\s+')"
   ]
  },
  {
   "cell_type": "code",
   "execution_count": 127,
   "id": "c8d7c1da",
   "metadata": {},
   "outputs": [
    {
     "data": {
      "text/plain": [
       "12"
      ]
     },
     "execution_count": 127,
     "metadata": {},
     "output_type": "execute_result"
    }
   ],
   "source": [
    "'''define the six SPHEREx bands using specific wavelengths separated \n",
    "    by distances as given in the SPHEREx documentation from file above'''\n",
    "wl1 = [] #angstrom, first wavelength value of SPHEREx band 1\n",
    "wl2 = []\n",
    "wl3 = []\n",
    "wl4mod = []\n",
    "wl4 = []\n",
    "wl5 = []\n",
    "wl6 = []\n",
    "\n",
    "for i in range(len(df['lambda'])):\n",
    "    new_wl = (df['lambda'][i]*10000) #convert to angstroms, sncosmo pref.\n",
    "    #print(new_wl)\n",
    "    if new_wl <= 11200:\n",
    "        wl1.append(new_wl)\n",
    "    if (new_wl >= 11000) & (new_wl <= 16500):\n",
    "        wl2.append(new_wl)\n",
    "    if (new_wl >= 16300) & (new_wl <= 24400):\n",
    "        wl3.append(new_wl)\n",
    "    if (new_wl >= 24000) & (new_wl <= 33897.8):\n",
    "        wl4mod.append(new_wl)\n",
    "    if (new_wl >= 24000) & (new_wl <= 38500):\n",
    "        wl4.append(new_wl)\n",
    "    if (new_wl >= 38100) & (new_wl <= 44300):\n",
    "        wl5.append(new_wl)\n",
    "    if (new_wl >= 44100) & (new_wl <= 50100):\n",
    "        wl6.append(new_wl)"
   ]
  },
  {
   "cell_type": "code",
   "execution_count": 129,
   "id": "c2f2065f",
   "metadata": {},
   "outputs": [],
   "source": [
    "'''further explaned in documentation, but transmission should be \n",
    "    irrelevant, set to 1 for all cases'''\n",
    "T_len12 = np.ones(12) #for wavelength arrays w 14 entries\n",
    "T_len16 = np.ones(16) #for wavelength arrays w 16 entries\n",
    "T_len17 = np.ones(17) #for wavelength arrays w 17 entries"
   ]
  },
  {
   "cell_type": "code",
   "execution_count": 130,
   "id": "da3e2cdf",
   "metadata": {},
   "outputs": [],
   "source": [
    "'''make sncosmo Bandpasses'''\n",
    "band1 = sncosmo.Bandpass(wl1, T_len16)\n",
    "sncosmo.register(band1, 'band1', force=True)\n",
    "\n",
    "band2 = sncosmo.Bandpass(wl2, T_len16, name='band2')\n",
    "sncosmo.register(band2, 'band2', force=True)\n",
    "\n",
    "band3 = sncosmo.Bandpass(wl3, T_len17, name='band3')\n",
    "sncosmo.register(band3, 'band3', force=True)\n",
    "\n",
    "band4mod = sncosmo.Bandpass(wl4mod, T_len12, name='band4mod')\n",
    "sncosmo.register(band4mod, 'band4mod', force=True)\n",
    "\n",
    "band4 = sncosmo.Bandpass(wl4, T_len17, name='band4')\n",
    "sncosmo.register(band4, 'band4', force=True)\n",
    "\n",
    "band5 = sncosmo.Bandpass(wl5, T_len16, name='band5')\n",
    "sncosmo.register(band5, 'band5', force=True)\n",
    "\n",
    "band6 = sncosmo.Bandpass(wl6, T_len17, name='band6')\n",
    "sncosmo.register(band6, 'band6', force=True);"
   ]
  },
  {
   "cell_type": "code",
   "execution_count": 131,
   "id": "2f706752",
   "metadata": {},
   "outputs": [
    {
     "data": {
      "text/plain": [
       "'Now we simulate some SNe'"
      ]
     },
     "execution_count": 131,
     "metadata": {},
     "output_type": "execute_result"
    }
   ],
   "source": [
    "'''Now we simulate some SNe'''"
   ]
  },
  {
   "cell_type": "code",
   "execution_count": 132,
   "id": "a34ba441",
   "metadata": {},
   "outputs": [],
   "source": [
    "'''load in file with SN params'''\n",
    "FITRES = pd.read_csv('./FITOPT000.FITRES', sep = '\\s+', comment = '#')"
   ]
  },
  {
   "cell_type": "code",
   "execution_count": 133,
   "id": "6d0054ee",
   "metadata": {},
   "outputs": [],
   "source": [
    "'''SN 98342'''\n",
    "model = sncosmo.Model('salt3-nir')\n",
    "'''the SALT3 model runs on 5 params: z, t0, x0, x1, and c which we can \n",
    "    set based on the SN of interest'''\n",
    "for i in range(len(FITRES.CID)):\n",
    "    if FITRES.CID[i] == 98342:\n",
    "        model.parameters[0] = FITRES.zHD[i]\n",
    "        model.parameters[1] = FITRES.PKMJD[i]\n",
    "        model.parameters[2] = FITRES.x0[i]\n",
    "        model.parameters[3] = FITRES.x1[i]\n",
    "        model.parameters[4] = FITRES.c[i]\n",
    "        params = {'z': FITRES.zHD[i], 't0': FITRES.PKMJD[i], 'x0': FITRES.x0[i], 'x1': FITRES.x1[i], 'c': FITRES.c[i]}"
   ]
  },
  {
   "cell_type": "code",
   "execution_count": 134,
   "id": "1bd9918e",
   "metadata": {},
   "outputs": [
    {
     "name": "stderr",
     "output_type": "stream",
     "text": [
      "C:\\Users\\avacb\\AppData\\Local\\Temp\\ipykernel_16720\\3826675009.py:2: ParserWarning: Falling back to the 'python' engine because the 'c' engine does not support regex separators (separators > 1 char and different from '\\s+' are interpreted as regex); you can avoid this warning by specifying engine='python'.\n",
      "  LCPLOT = pd.read_csv('./LSSTDDF_EUCLID.LCPLOT.TEXT', sep = ', ', comment = '#')\n"
     ]
    }
   ],
   "source": [
    "'''load in file with observables'''\n",
    "LCPLOT = pd.read_csv('./LSSTDDF_EUCLID.LCPLOT.TEXT', sep = ', ', comment = '#')"
   ]
  },
  {
   "cell_type": "code",
   "execution_count": 64,
   "id": "b84e717f",
   "metadata": {},
   "outputs": [
    {
     "ename": "ValueError",
     "evalue": "bandpass 'band4' [24115.2, .., 37981] outside spectral range [3389.78, .., 15593]",
     "output_type": "error",
     "traceback": [
      "\u001b[1;31m---------------------------------------------------------------------------\u001b[0m",
      "\u001b[1;31mValueError\u001b[0m                                Traceback (most recent call last)",
      "\u001b[1;32m~\\AppData\\Local\\Temp\\ipykernel_16720\\3839914005.py\u001b[0m in \u001b[0;36m<module>\u001b[1;34m\u001b[0m\n\u001b[0;32m     32\u001b[0m              'zpsys': ['ab', 'ab', 'ab', 'ab']})\n\u001b[0;32m     33\u001b[0m \u001b[1;33m\u001b[0m\u001b[0m\n\u001b[1;32m---> 34\u001b[1;33m \u001b[0mlcs\u001b[0m \u001b[1;33m=\u001b[0m \u001b[0msncosmo\u001b[0m\u001b[1;33m.\u001b[0m\u001b[0mrealize_lcs\u001b[0m\u001b[1;33m(\u001b[0m\u001b[0mobs\u001b[0m\u001b[1;33m,\u001b[0m \u001b[0mmodel\u001b[0m\u001b[1;33m,\u001b[0m \u001b[1;33m[\u001b[0m\u001b[0mparams\u001b[0m\u001b[1;33m]\u001b[0m\u001b[1;33m)\u001b[0m\u001b[1;33m\u001b[0m\u001b[1;33m\u001b[0m\u001b[0m\n\u001b[0m",
      "\u001b[1;32m~\\anaconda3\\lib\\site-packages\\sncosmo\\simulation.py\u001b[0m in \u001b[0;36mrealize_lcs\u001b[1;34m(observations, model, params, thresh, trim_observations, scatter)\u001b[0m\n\u001b[0;32m    207\u001b[0m             \u001b[1;32mcontinue\u001b[0m\u001b[1;33m\u001b[0m\u001b[1;33m\u001b[0m\u001b[0m\n\u001b[0;32m    208\u001b[0m \u001b[1;33m\u001b[0m\u001b[0m\n\u001b[1;32m--> 209\u001b[1;33m         flux = model.bandflux(snobs[colname['band']],\n\u001b[0m\u001b[0;32m    210\u001b[0m                               \u001b[0msnobs\u001b[0m\u001b[1;33m[\u001b[0m\u001b[0mcolname\u001b[0m\u001b[1;33m[\u001b[0m\u001b[1;34m'time'\u001b[0m\u001b[1;33m]\u001b[0m\u001b[1;33m]\u001b[0m\u001b[1;33m,\u001b[0m\u001b[1;33m\u001b[0m\u001b[1;33m\u001b[0m\u001b[0m\n\u001b[0;32m    211\u001b[0m                               \u001b[0mzp\u001b[0m\u001b[1;33m=\u001b[0m\u001b[0msnobs\u001b[0m\u001b[1;33m[\u001b[0m\u001b[0mcolname\u001b[0m\u001b[1;33m[\u001b[0m\u001b[1;34m'zp'\u001b[0m\u001b[1;33m]\u001b[0m\u001b[1;33m]\u001b[0m\u001b[1;33m,\u001b[0m\u001b[1;33m\u001b[0m\u001b[1;33m\u001b[0m\u001b[0m\n",
      "\u001b[1;32m~\\anaconda3\\lib\\site-packages\\sncosmo\\models.py\u001b[0m in \u001b[0;36mbandflux\u001b[1;34m(self, band, time, zp, zpsys)\u001b[0m\n\u001b[0;32m   1680\u001b[0m         \u001b[1;32mexcept\u001b[0m \u001b[0mValueError\u001b[0m \u001b[1;32mas\u001b[0m \u001b[0me\u001b[0m\u001b[1;33m:\u001b[0m\u001b[1;33m\u001b[0m\u001b[1;33m\u001b[0m\u001b[0m\n\u001b[0;32m   1681\u001b[0m             \u001b[0m_check_for_fitpack_error\u001b[0m\u001b[1;33m(\u001b[0m\u001b[0me\u001b[0m\u001b[1;33m,\u001b[0m \u001b[0mtime\u001b[0m\u001b[1;33m,\u001b[0m \u001b[1;34m'time'\u001b[0m\u001b[1;33m)\u001b[0m\u001b[1;33m\u001b[0m\u001b[1;33m\u001b[0m\u001b[0m\n\u001b[1;32m-> 1682\u001b[1;33m             \u001b[1;32mraise\u001b[0m \u001b[0me\u001b[0m\u001b[1;33m\u001b[0m\u001b[1;33m\u001b[0m\u001b[0m\n\u001b[0m\u001b[0;32m   1683\u001b[0m \u001b[1;33m\u001b[0m\u001b[0m\n\u001b[0;32m   1684\u001b[0m     \u001b[1;32mdef\u001b[0m \u001b[0m_bandflux_rcov\u001b[0m\u001b[1;33m(\u001b[0m\u001b[0mself\u001b[0m\u001b[1;33m,\u001b[0m \u001b[0mband\u001b[0m\u001b[1;33m,\u001b[0m \u001b[0mtime\u001b[0m\u001b[1;33m)\u001b[0m\u001b[1;33m:\u001b[0m\u001b[1;33m\u001b[0m\u001b[1;33m\u001b[0m\u001b[0m\n",
      "\u001b[1;32m~\\anaconda3\\lib\\site-packages\\sncosmo\\models.py\u001b[0m in \u001b[0;36mbandflux\u001b[1;34m(self, band, time, zp, zpsys)\u001b[0m\n\u001b[0;32m   1677\u001b[0m \u001b[1;33m\u001b[0m\u001b[0m\n\u001b[0;32m   1678\u001b[0m         \u001b[1;32mtry\u001b[0m\u001b[1;33m:\u001b[0m\u001b[1;33m\u001b[0m\u001b[1;33m\u001b[0m\u001b[0m\n\u001b[1;32m-> 1679\u001b[1;33m             \u001b[1;32mreturn\u001b[0m \u001b[0m_bandflux\u001b[0m\u001b[1;33m(\u001b[0m\u001b[0mself\u001b[0m\u001b[1;33m,\u001b[0m \u001b[0mband\u001b[0m\u001b[1;33m,\u001b[0m \u001b[0mtime\u001b[0m\u001b[1;33m,\u001b[0m \u001b[0mzp\u001b[0m\u001b[1;33m,\u001b[0m \u001b[0mzpsys\u001b[0m\u001b[1;33m)\u001b[0m\u001b[1;33m\u001b[0m\u001b[1;33m\u001b[0m\u001b[0m\n\u001b[0m\u001b[0;32m   1680\u001b[0m         \u001b[1;32mexcept\u001b[0m \u001b[0mValueError\u001b[0m \u001b[1;32mas\u001b[0m \u001b[0me\u001b[0m\u001b[1;33m:\u001b[0m\u001b[1;33m\u001b[0m\u001b[1;33m\u001b[0m\u001b[0m\n\u001b[0;32m   1681\u001b[0m             \u001b[0m_check_for_fitpack_error\u001b[0m\u001b[1;33m(\u001b[0m\u001b[0me\u001b[0m\u001b[1;33m,\u001b[0m \u001b[0mtime\u001b[0m\u001b[1;33m,\u001b[0m \u001b[1;34m'time'\u001b[0m\u001b[1;33m)\u001b[0m\u001b[1;33m\u001b[0m\u001b[1;33m\u001b[0m\u001b[0m\n",
      "\u001b[1;32m~\\anaconda3\\lib\\site-packages\\sncosmo\\models.py\u001b[0m in \u001b[0;36m_bandflux\u001b[1;34m(model, band, time_or_phase, zp, zpsys)\u001b[0m\n\u001b[0;32m    153\u001b[0m         \u001b[0mb\u001b[0m \u001b[1;33m=\u001b[0m \u001b[0mget_bandpass\u001b[0m\u001b[1;33m(\u001b[0m\u001b[0mb\u001b[0m\u001b[1;33m)\u001b[0m\u001b[1;33m\u001b[0m\u001b[1;33m\u001b[0m\u001b[0m\n\u001b[0;32m    154\u001b[0m \u001b[1;33m\u001b[0m\u001b[0m\n\u001b[1;32m--> 155\u001b[1;33m         \u001b[0mfsum\u001b[0m \u001b[1;33m=\u001b[0m \u001b[0m_bandflux_single\u001b[0m\u001b[1;33m(\u001b[0m\u001b[0mmodel\u001b[0m\u001b[1;33m,\u001b[0m \u001b[0mb\u001b[0m\u001b[1;33m,\u001b[0m \u001b[0mtime_or_phase\u001b[0m\u001b[1;33m[\u001b[0m\u001b[0mmask\u001b[0m\u001b[1;33m]\u001b[0m\u001b[1;33m)\u001b[0m\u001b[1;33m\u001b[0m\u001b[1;33m\u001b[0m\u001b[0m\n\u001b[0m\u001b[0;32m    156\u001b[0m \u001b[1;33m\u001b[0m\u001b[0m\n\u001b[0;32m    157\u001b[0m         \u001b[1;32mif\u001b[0m \u001b[0mzp\u001b[0m \u001b[1;32mis\u001b[0m \u001b[1;32mnot\u001b[0m \u001b[1;32mNone\u001b[0m\u001b[1;33m:\u001b[0m\u001b[1;33m\u001b[0m\u001b[1;33m\u001b[0m\u001b[0m\n",
      "\u001b[1;32m~\\anaconda3\\lib\\site-packages\\sncosmo\\models.py\u001b[0m in \u001b[0;36m_bandflux_single\u001b[1;34m(model, band, time_or_phase)\u001b[0m\n\u001b[0;32m    105\u001b[0m     \u001b[1;31m# wavelength range.\u001b[0m\u001b[1;33m\u001b[0m\u001b[1;33m\u001b[0m\u001b[0m\n\u001b[0;32m    106\u001b[0m     \u001b[1;32mif\u001b[0m \u001b[1;33m(\u001b[0m\u001b[0mband\u001b[0m\u001b[1;33m.\u001b[0m\u001b[0mminwave\u001b[0m\u001b[1;33m(\u001b[0m\u001b[1;33m)\u001b[0m \u001b[1;33m<\u001b[0m \u001b[0mmodel\u001b[0m\u001b[1;33m.\u001b[0m\u001b[0mminwave\u001b[0m\u001b[1;33m(\u001b[0m\u001b[1;33m)\u001b[0m \u001b[1;32mor\u001b[0m \u001b[0mband\u001b[0m\u001b[1;33m.\u001b[0m\u001b[0mmaxwave\u001b[0m\u001b[1;33m(\u001b[0m\u001b[1;33m)\u001b[0m \u001b[1;33m>\u001b[0m \u001b[0mmodel\u001b[0m\u001b[1;33m.\u001b[0m\u001b[0mmaxwave\u001b[0m\u001b[1;33m(\u001b[0m\u001b[1;33m)\u001b[0m\u001b[1;33m)\u001b[0m\u001b[1;33m:\u001b[0m\u001b[1;33m\u001b[0m\u001b[1;33m\u001b[0m\u001b[0m\n\u001b[1;32m--> 107\u001b[1;33m         raise ValueError('bandpass {0!r:s} [{1:.6g}, .., {2:.6g}] '\n\u001b[0m\u001b[0;32m    108\u001b[0m                          \u001b[1;34m'outside spectral range [{3:.6g}, .., {4:.6g}]'\u001b[0m\u001b[1;33m\u001b[0m\u001b[1;33m\u001b[0m\u001b[0m\n\u001b[0;32m    109\u001b[0m                          .format(band.name, band.minwave(), band.maxwave(),\n",
      "\u001b[1;31mValueError\u001b[0m: bandpass 'band4' [24115.2, .., 37981] outside spectral range [3389.78, .., 15593]"
     ]
    }
   ],
   "source": [
    "'''based on magnitude similarity, \n",
    "    I use noise and time from LSST or Euclid:\n",
    "    band1 = LSST y, band2 = Euclid J, band3-band6 = Euclid H'''\n",
    "times = []\n",
    "skynoise = []\n",
    "\n",
    "for i in range(len(LCPLOT.CID)):\n",
    "    if (LCPLOT.CID[i] == 98342) & (LCPLOT.BAND[i] == 'y') & (LCPLOT.MJD[i] == 62176.961):\n",
    "        skynoise.append(LCPLOT.FLUXCAL_ERR[i])\n",
    "        times.append(LCPLOT.MJD[i])\n",
    "    if (LCPLOT.CID[i] == 98342) & (LCPLOT.BAND[i] == 'J') & (LCPLOT.MJD[i] == 62176.961):\n",
    "        skynoise.append(LCPLOT.FLUXCAL_ERR[i])\n",
    "        times.append(LCPLOT.MJD[i])\n",
    "    if (LCPLOT.CID[i] == 98342) & (LCPLOT.BAND[i] == 'H') & (LCPLOT.MJD[i] == 62176.961):\n",
    "        skynoise.append(LCPLOT.FLUXCAL_ERR[i])\n",
    "        times.append(LCPLOT.MJD[i])\n",
    "    if (LCPLOT.CID[i] == 98342) & (LCPLOT.BAND[i] == 'H') & (LCPLOT.MJD[i] == 62176.961):\n",
    "        skynoise.append(LCPLOT.FLUXCAL_ERR[i])\n",
    "        times.append(LCPLOT.MJD[i])\n",
    "    if (LCPLOT.CID[i] == 98342) & (LCPLOT.BAND[i] == 'H') & (LCPLOT.MJD[i] == 62176.961):\n",
    "        skynoise.append(LCPLOT.FLUXCAL_ERR[i])\n",
    "        times.append(LCPLOT.MJD[i])\n",
    "    if (LCPLOT.CID[i] == 98342) & (LCPLOT.BAND[i] == 'H') & (LCPLOT.MJD[i] == 62176.961):\n",
    "        skynoise.append(LCPLOT.FLUXCAL_ERR[i])\n",
    "        times.append(LCPLOT.MJD[i])'''\n",
    "\n",
    "obs = Table({'time': times,\n",
    "             'band': ['band1', 'band2', 'band3', 'band4'],\n",
    "             'gain': [1., 1., 1., 1.],\n",
    "             'skynoise': skynoise,\n",
    "             'zp': [21., 21., 21., 21.], \n",
    "             'zpsys': ['ab', 'ab', 'ab', 'ab']})\n",
    "                    \n",
    "lcs = sncosmo.realize_lcs(obs, model, [params])"
   ]
  },
  {
   "cell_type": "code",
   "execution_count": 38,
   "id": "9ff2a263",
   "metadata": {},
   "outputs": [
    {
     "data": {
      "text/plain": [
       "63213.0"
      ]
     },
     "execution_count": 38,
     "metadata": {},
     "output_type": "execute_result"
    }
   ],
   "source": [
    "model.parameters[1]"
   ]
  },
  {
   "cell_type": "code",
   "execution_count": 135,
   "id": "cf8244b6",
   "metadata": {},
   "outputs": [
    {
     "name": "stdout",
     "output_type": "stream",
     "text": [
      "   time     band            flux         fluxerr  zp  zpsys\n",
      "--------- -------- --------------------- ------- ---- -----\n",
      "62070.355    band1     8.939833310548382  21.727 21.0    ab\n",
      "62075.219    band1    27.906656476759498  21.905 21.0    ab\n",
      "62099.125    band1 -0.009035125750976154  26.943 21.0    ab\n",
      "62101.211    band1   -15.050011255757111  26.022 21.0    ab\n",
      "62101.305    band1    10.862071904520974   30.86 21.0    ab\n",
      "62103.199    band1    -32.53422785951116   20.87 21.0    ab\n",
      "62125.039    band1    15.796443283760327  19.553 21.0    ab\n",
      "62129.316    band1    -51.99142732517223   72.69 21.0    ab\n",
      "62133.172    band1    13.985659977568226  15.497 21.0    ab\n",
      "62159.168    band1    -36.79925681858679  34.358 21.0    ab\n",
      "      ...      ...                   ...     ...  ...   ...\n",
      "62166.961 band4mod   0.23326256401278803  2.2067 21.0    ab\n",
      "62168.961    band3     0.967369257798615  2.1293 21.0    ab\n",
      "62168.961 band4mod   -0.6453071518219454  2.1293 21.0    ab\n",
      "62170.961    band3    2.6172397832859535  2.0547 21.0    ab\n",
      "62170.961 band4mod    0.1143310936653754  2.0547 21.0    ab\n",
      "62172.961    band3   -0.5361582101857227  1.9827 21.0    ab\n",
      "62172.961 band4mod    0.8234917903540117  1.9827 21.0    ab\n",
      "62174.961    band3    0.1253088343136073  1.9132 21.0    ab\n",
      "62174.961 band4mod   -3.5168535381869703  1.9132 21.0    ab\n",
      "62176.961    band3   -2.2825661962277994  1.8462 21.0    ab\n",
      "62176.961 band4mod    0.7428279995703865  1.8462 21.0    ab\n",
      "Length = 465 rows\n"
     ]
    }
   ],
   "source": [
    "times = []\n",
    "band = []\n",
    "skynoise = []\n",
    "zpsys = []\n",
    "\n",
    "for i in range(len(LCPLOT.CID)):\n",
    "    if (LCPLOT.CID[i] == 98342) & (LCPLOT.BAND[i] == 'y'):\n",
    "        skynoise.append(LCPLOT.FLUXCAL_ERR[i])\n",
    "        times.append(LCPLOT.MJD[i])\n",
    "        band.append('band1')\n",
    "        zpsys.append('ab')\n",
    "    if (LCPLOT.CID[i] == 98342) & (LCPLOT.BAND[i] == 'J'):\n",
    "        skynoise.append(LCPLOT.FLUXCAL_ERR[i])\n",
    "        times.append(LCPLOT.MJD[i])\n",
    "        band.append('band2')\n",
    "        zpsys.append('ab')\n",
    "    if (LCPLOT.CID[i] == 98342) & (LCPLOT.BAND[i] == 'H'):\n",
    "        skynoise.append(LCPLOT.FLUXCAL_ERR[i])\n",
    "        times.append(LCPLOT.MJD[i])\n",
    "        band.append('band3')\n",
    "        zpsys.append('ab')\n",
    "    if (LCPLOT.CID[i] == 98342) & (LCPLOT.BAND[i] == 'H'):\n",
    "        skynoise.append(LCPLOT.FLUXCAL_ERR[i])\n",
    "        times.append(LCPLOT.MJD[i])\n",
    "        band.append('band4mod')\n",
    "        zpsys.append('ab')\n",
    "    '''if (LCPLOT.CID[i] == 98342) & (LCPLOT.BAND[i] == 'H'):\n",
    "        skynoise.append(LCPLOT.FLUXCAL_ERR[i])\n",
    "        times.append(LCPLOT.MJD[i])\n",
    "        band.append('band5')\n",
    "        zpsys.append('ab')\n",
    "    if (LCPLOT.CID[i] == 98342) & (LCPLOT.BAND[i] == 'H'):\n",
    "        skynoise.append(LCPLOT.FLUXCAL_ERR[i])\n",
    "        times.append(LCPLOT.MJD[i])\n",
    "        band.append('band6')\n",
    "        zpsys.append('ab')'''\n",
    "\n",
    "gain = np.ones(len(times))\n",
    "zp = 21.*np.ones(len(times))\n",
    "\n",
    "obs = Table({'time': times,\n",
    "             'band': band,\n",
    "             'gain': gain,\n",
    "             'skynoise': skynoise,\n",
    "             'zp': zp, \n",
    "             'zpsys': zpsys})\n",
    "                    \n",
    "lcs = sncosmo.realize_lcs(obs, model, [params])\n",
    "print(lcs[0])"
   ]
  },
  {
   "cell_type": "code",
   "execution_count": 136,
   "id": "8ee39cb6",
   "metadata": {},
   "outputs": [
    {
     "name": "stderr",
     "output_type": "stream",
     "text": [
      "C:\\Users\\avacb\\anaconda3\\lib\\site-packages\\sncosmo\\fitting.py:187: RuntimeWarning: Dropping following bands from data: band4mod(out of model wavelength range)\n",
      "  warnings.warn(\"Dropping following bands from data: \" +\n",
      "C:\\Users\\avacb\\anaconda3\\lib\\site-packages\\sncosmo\\fitting.py:235: RuntimeWarning: invalid value encountered in true_divide\n",
      "  significant_data = data[(data.flux / data.fluxerr) > minsnr]\n"
     ]
    },
    {
     "ename": "DataQualityError",
     "evalue": "No data points with S/N > 5.0. Initial guessing failed.",
     "output_type": "error",
     "traceback": [
      "\u001b[1;31m---------------------------------------------------------------------------\u001b[0m",
      "\u001b[1;31mDataQualityError\u001b[0m                          Traceback (most recent call last)",
      "\u001b[1;32m~\\AppData\\Local\\Temp\\ipykernel_16720\\3676900147.py\u001b[0m in \u001b[0;36m<module>\u001b[1;34m\u001b[0m\n\u001b[1;32m----> 1\u001b[1;33m result, fitted_model = sncosmo.fit_lc(\n\u001b[0m\u001b[0;32m      2\u001b[0m     \u001b[0mlcs\u001b[0m\u001b[1;33m[\u001b[0m\u001b[1;36m0\u001b[0m\u001b[1;33m]\u001b[0m\u001b[1;33m,\u001b[0m \u001b[0mmodel\u001b[0m\u001b[1;33m,\u001b[0m\u001b[1;33m\u001b[0m\u001b[1;33m\u001b[0m\u001b[0m\n\u001b[0;32m      3\u001b[0m     \u001b[1;33m[\u001b[0m\u001b[1;34m'z'\u001b[0m\u001b[1;33m,\u001b[0m \u001b[1;34m't0'\u001b[0m\u001b[1;33m,\u001b[0m \u001b[1;34m'x0'\u001b[0m\u001b[1;33m,\u001b[0m \u001b[1;34m'x1'\u001b[0m\u001b[1;33m,\u001b[0m \u001b[1;34m'c'\u001b[0m\u001b[1;33m]\u001b[0m\u001b[1;33m,\u001b[0m  \u001b[1;31m# parameters of model to vary\u001b[0m\u001b[1;33m\u001b[0m\u001b[1;33m\u001b[0m\u001b[0m\n\u001b[0;32m      4\u001b[0m     bounds={'z':(0.3, 0.7)})  # bounds on parameters (if any)\n",
      "\u001b[1;32m~\\anaconda3\\lib\\site-packages\\sncosmo\\fitting.py\u001b[0m in \u001b[0;36mfit_lc\u001b[1;34m(data, model, vparam_names, bounds, spectra, method, guess_amplitude, guess_t0, guess_z, minsnr, modelcov, verbose, maxcall, phase_range, wave_range, warn)\u001b[0m\n\u001b[0;32m    681\u001b[0m     \u001b[1;31m# (For now, we assume it is the 3rd parameter of the model.)\u001b[0m\u001b[1;33m\u001b[0m\u001b[1;33m\u001b[0m\u001b[0m\n\u001b[0;32m    682\u001b[0m     \u001b[1;32mif\u001b[0m \u001b[1;33m(\u001b[0m\u001b[0mguess_amplitude\u001b[0m \u001b[1;32mor\u001b[0m \u001b[0mguess_t0\u001b[0m\u001b[1;33m)\u001b[0m\u001b[1;33m:\u001b[0m\u001b[1;33m\u001b[0m\u001b[1;33m\u001b[0m\u001b[0m\n\u001b[1;32m--> 683\u001b[1;33m         \u001b[0mt0\u001b[0m\u001b[1;33m,\u001b[0m \u001b[0mamplitude\u001b[0m \u001b[1;33m=\u001b[0m \u001b[0mguess_t0_and_amplitude\u001b[0m\u001b[1;33m(\u001b[0m\u001b[0mfitdata\u001b[0m\u001b[1;33m,\u001b[0m \u001b[0mmodel\u001b[0m\u001b[1;33m,\u001b[0m \u001b[0mminsnr\u001b[0m\u001b[1;33m,\u001b[0m \u001b[0mspectra\u001b[0m\u001b[1;33m)\u001b[0m\u001b[1;33m\u001b[0m\u001b[1;33m\u001b[0m\u001b[0m\n\u001b[0m\u001b[0;32m    684\u001b[0m         \u001b[1;32mif\u001b[0m \u001b[0mguess_amplitude\u001b[0m\u001b[1;33m:\u001b[0m\u001b[1;33m\u001b[0m\u001b[1;33m\u001b[0m\u001b[0m\n\u001b[0;32m    685\u001b[0m             \u001b[0mmodel\u001b[0m\u001b[1;33m.\u001b[0m\u001b[0mparameters\u001b[0m\u001b[1;33m[\u001b[0m\u001b[1;36m2\u001b[0m\u001b[1;33m]\u001b[0m \u001b[1;33m=\u001b[0m \u001b[0mamplitude\u001b[0m\u001b[1;33m\u001b[0m\u001b[1;33m\u001b[0m\u001b[0m\n",
      "\u001b[1;32m~\\anaconda3\\lib\\site-packages\\sncosmo\\fitting.py\u001b[0m in \u001b[0;36mguess_t0_and_amplitude\u001b[1;34m(data, model, minsnr, spectra)\u001b[0m\n\u001b[0;32m    344\u001b[0m     \"\"\"\n\u001b[0;32m    345\u001b[0m     \u001b[1;32mif\u001b[0m \u001b[0mdata\u001b[0m \u001b[1;32mis\u001b[0m \u001b[1;32mnot\u001b[0m \u001b[1;32mNone\u001b[0m\u001b[1;33m:\u001b[0m\u001b[1;33m\u001b[0m\u001b[1;33m\u001b[0m\u001b[0m\n\u001b[1;32m--> 346\u001b[1;33m         \u001b[1;32mreturn\u001b[0m \u001b[0m_guess_t0_and_amplitude_photometry\u001b[0m\u001b[1;33m(\u001b[0m\u001b[0mdata\u001b[0m\u001b[1;33m,\u001b[0m \u001b[0mmodel\u001b[0m\u001b[1;33m,\u001b[0m \u001b[0mminsnr\u001b[0m\u001b[1;33m)\u001b[0m\u001b[1;33m\u001b[0m\u001b[1;33m\u001b[0m\u001b[0m\n\u001b[0m\u001b[0;32m    347\u001b[0m     \u001b[1;32melif\u001b[0m \u001b[0mspectra\u001b[0m \u001b[1;32mis\u001b[0m \u001b[1;32mnot\u001b[0m \u001b[1;32mNone\u001b[0m\u001b[1;33m:\u001b[0m\u001b[1;33m\u001b[0m\u001b[1;33m\u001b[0m\u001b[0m\n\u001b[0;32m    348\u001b[0m         \u001b[1;32mreturn\u001b[0m \u001b[0m_guess_t0_and_amplitude_spectra\u001b[0m\u001b[1;33m(\u001b[0m\u001b[0mspectra\u001b[0m\u001b[1;33m,\u001b[0m \u001b[0mmodel\u001b[0m\u001b[1;33m,\u001b[0m \u001b[0mminsnr\u001b[0m\u001b[1;33m)\u001b[0m\u001b[1;33m\u001b[0m\u001b[1;33m\u001b[0m\u001b[0m\n",
      "\u001b[1;32m~\\anaconda3\\lib\\site-packages\\sncosmo\\fitting.py\u001b[0m in \u001b[0;36m_guess_t0_and_amplitude_photometry\u001b[1;34m(data, model, minsnr)\u001b[0m\n\u001b[0;32m    235\u001b[0m     \u001b[0msignificant_data\u001b[0m \u001b[1;33m=\u001b[0m \u001b[0mdata\u001b[0m\u001b[1;33m[\u001b[0m\u001b[1;33m(\u001b[0m\u001b[0mdata\u001b[0m\u001b[1;33m.\u001b[0m\u001b[0mflux\u001b[0m \u001b[1;33m/\u001b[0m \u001b[0mdata\u001b[0m\u001b[1;33m.\u001b[0m\u001b[0mfluxerr\u001b[0m\u001b[1;33m)\u001b[0m \u001b[1;33m>\u001b[0m \u001b[0mminsnr\u001b[0m\u001b[1;33m]\u001b[0m\u001b[1;33m\u001b[0m\u001b[1;33m\u001b[0m\u001b[0m\n\u001b[0;32m    236\u001b[0m     \u001b[1;32mif\u001b[0m \u001b[0mlen\u001b[0m\u001b[1;33m(\u001b[0m\u001b[0msignificant_data\u001b[0m\u001b[1;33m)\u001b[0m \u001b[1;33m==\u001b[0m \u001b[1;36m0\u001b[0m\u001b[1;33m:\u001b[0m\u001b[1;33m\u001b[0m\u001b[1;33m\u001b[0m\u001b[0m\n\u001b[1;32m--> 237\u001b[1;33m         raise DataQualityError('No data points with S/N > {0}. Initial '\n\u001b[0m\u001b[0;32m    238\u001b[0m                                'guessing failed.'.format(minsnr))\n\u001b[0;32m    239\u001b[0m \u001b[1;33m\u001b[0m\u001b[0m\n",
      "\u001b[1;31mDataQualityError\u001b[0m: No data points with S/N > 5.0. Initial guessing failed."
     ]
    }
   ],
   "source": [
    "result, fitted_model = sncosmo.fit_lc(lcs[0], model, ['z', 't0', 'x0', 'x1', 'c'], bounds={'z':(0.3, 0.7)})  # bounds on parameters (if any)"
   ]
  },
  {
   "cell_type": "code",
   "execution_count": 101,
   "id": "e04af82b",
   "metadata": {},
   "outputs": [
    {
     "data": {
      "text/plain": [
       "'Pivot to LSST'"
      ]
     },
     "execution_count": 101,
     "metadata": {},
     "output_type": "execute_result"
    }
   ],
   "source": [
    "'''Pivot to LSST'''"
   ]
  },
  {
   "cell_type": "code",
   "execution_count": null,
   "id": "02c500f0",
   "metadata": {},
   "outputs": [],
   "source": []
  }
 ],
 "metadata": {
  "kernelspec": {
   "display_name": "Python 3 (ipykernel)",
   "language": "python",
   "name": "python3"
  },
  "language_info": {
   "codemirror_mode": {
    "name": "ipython",
    "version": 3
   },
   "file_extension": ".py",
   "mimetype": "text/x-python",
   "name": "python",
   "nbconvert_exporter": "python",
   "pygments_lexer": "ipython3",
   "version": "3.9.13"
  }
 },
 "nbformat": 4,
 "nbformat_minor": 5
}
